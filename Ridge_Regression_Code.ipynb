{
  "nbformat": 4,
  "nbformat_minor": 0,
  "metadata": {
    "colab": {
      "provenance": [],
      "collapsed_sections": []
    },
    "kernelspec": {
      "name": "python3",
      "display_name": "Python 3"
    },
    "language_info": {
      "name": "python"
    }
  },
  "cells": [
    {
      "cell_type": "markdown",
      "source": [
        "# **Carlos Gross-Martinez**\n",
        "\n",
        "#**Assignmnet 1 - Ridge Regression**\n",
        "\n",
        "#**CAP6640 - Computational Foundations of AI**"
      ],
      "metadata": {
        "id": "4dLP0xeMdLY-"
      }
    },
    {
      "cell_type": "markdown",
      "source": [
        "***Importing libraries to use in the program and importing the information from the excel sheet to create a data frame for data manipulation and processing. Then printing the dataframe to verify information.***"
      ],
      "metadata": {
        "id": "eRcL8ds3icIo"
      }
    },
    {
      "cell_type": "code",
      "execution_count": 1,
      "metadata": {
        "colab": {
          "base_uri": "https://localhost:8080/",
          "height": 424
        },
        "id": "_eIT8-mfJVv_",
        "outputId": "b00f7a21-bcc1-4996-e483-0aeb25d5dec9"
      },
      "outputs": [
        {
          "output_type": "execute_result",
          "data": {
            "text/plain": [
              "      Income  Limit  Rating  Cards  Age  Education  Gender Student Married  \\\n",
              "0     14.891   3606     283      2   34         11    Male      No     Yes   \n",
              "1    106.025   6645     483      3   82         15  Female     Yes     Yes   \n",
              "2    104.593   7075     514      4   71         11    Male      No      No   \n",
              "3    148.924   9504     681      3   36         11  Female      No      No   \n",
              "4     55.882   4897     357      2   68         16    Male      No     Yes   \n",
              "..       ...    ...     ...    ...  ...        ...     ...     ...     ...   \n",
              "395   12.096   4100     307      3   32         13    Male      No     Yes   \n",
              "396   13.364   3838     296      5   65         17    Male      No      No   \n",
              "397   57.872   4171     321      5   67         12  Female      No     Yes   \n",
              "398   37.728   2525     192      1   44         13    Male      No     Yes   \n",
              "399   18.701   5524     415      5   64          7  Female      No      No   \n",
              "\n",
              "     Balance  \n",
              "0        333  \n",
              "1        903  \n",
              "2        580  \n",
              "3        964  \n",
              "4        331  \n",
              "..       ...  \n",
              "395      560  \n",
              "396      480  \n",
              "397      138  \n",
              "398        0  \n",
              "399      966  \n",
              "\n",
              "[400 rows x 10 columns]"
            ],
            "text/html": [
              "\n",
              "  <div id=\"df-02d64fee-c608-4972-83b2-cb4a924e1211\">\n",
              "    <div class=\"colab-df-container\">\n",
              "      <div>\n",
              "<style scoped>\n",
              "    .dataframe tbody tr th:only-of-type {\n",
              "        vertical-align: middle;\n",
              "    }\n",
              "\n",
              "    .dataframe tbody tr th {\n",
              "        vertical-align: top;\n",
              "    }\n",
              "\n",
              "    .dataframe thead th {\n",
              "        text-align: right;\n",
              "    }\n",
              "</style>\n",
              "<table border=\"1\" class=\"dataframe\">\n",
              "  <thead>\n",
              "    <tr style=\"text-align: right;\">\n",
              "      <th></th>\n",
              "      <th>Income</th>\n",
              "      <th>Limit</th>\n",
              "      <th>Rating</th>\n",
              "      <th>Cards</th>\n",
              "      <th>Age</th>\n",
              "      <th>Education</th>\n",
              "      <th>Gender</th>\n",
              "      <th>Student</th>\n",
              "      <th>Married</th>\n",
              "      <th>Balance</th>\n",
              "    </tr>\n",
              "  </thead>\n",
              "  <tbody>\n",
              "    <tr>\n",
              "      <th>0</th>\n",
              "      <td>14.891</td>\n",
              "      <td>3606</td>\n",
              "      <td>283</td>\n",
              "      <td>2</td>\n",
              "      <td>34</td>\n",
              "      <td>11</td>\n",
              "      <td>Male</td>\n",
              "      <td>No</td>\n",
              "      <td>Yes</td>\n",
              "      <td>333</td>\n",
              "    </tr>\n",
              "    <tr>\n",
              "      <th>1</th>\n",
              "      <td>106.025</td>\n",
              "      <td>6645</td>\n",
              "      <td>483</td>\n",
              "      <td>3</td>\n",
              "      <td>82</td>\n",
              "      <td>15</td>\n",
              "      <td>Female</td>\n",
              "      <td>Yes</td>\n",
              "      <td>Yes</td>\n",
              "      <td>903</td>\n",
              "    </tr>\n",
              "    <tr>\n",
              "      <th>2</th>\n",
              "      <td>104.593</td>\n",
              "      <td>7075</td>\n",
              "      <td>514</td>\n",
              "      <td>4</td>\n",
              "      <td>71</td>\n",
              "      <td>11</td>\n",
              "      <td>Male</td>\n",
              "      <td>No</td>\n",
              "      <td>No</td>\n",
              "      <td>580</td>\n",
              "    </tr>\n",
              "    <tr>\n",
              "      <th>3</th>\n",
              "      <td>148.924</td>\n",
              "      <td>9504</td>\n",
              "      <td>681</td>\n",
              "      <td>3</td>\n",
              "      <td>36</td>\n",
              "      <td>11</td>\n",
              "      <td>Female</td>\n",
              "      <td>No</td>\n",
              "      <td>No</td>\n",
              "      <td>964</td>\n",
              "    </tr>\n",
              "    <tr>\n",
              "      <th>4</th>\n",
              "      <td>55.882</td>\n",
              "      <td>4897</td>\n",
              "      <td>357</td>\n",
              "      <td>2</td>\n",
              "      <td>68</td>\n",
              "      <td>16</td>\n",
              "      <td>Male</td>\n",
              "      <td>No</td>\n",
              "      <td>Yes</td>\n",
              "      <td>331</td>\n",
              "    </tr>\n",
              "    <tr>\n",
              "      <th>...</th>\n",
              "      <td>...</td>\n",
              "      <td>...</td>\n",
              "      <td>...</td>\n",
              "      <td>...</td>\n",
              "      <td>...</td>\n",
              "      <td>...</td>\n",
              "      <td>...</td>\n",
              "      <td>...</td>\n",
              "      <td>...</td>\n",
              "      <td>...</td>\n",
              "    </tr>\n",
              "    <tr>\n",
              "      <th>395</th>\n",
              "      <td>12.096</td>\n",
              "      <td>4100</td>\n",
              "      <td>307</td>\n",
              "      <td>3</td>\n",
              "      <td>32</td>\n",
              "      <td>13</td>\n",
              "      <td>Male</td>\n",
              "      <td>No</td>\n",
              "      <td>Yes</td>\n",
              "      <td>560</td>\n",
              "    </tr>\n",
              "    <tr>\n",
              "      <th>396</th>\n",
              "      <td>13.364</td>\n",
              "      <td>3838</td>\n",
              "      <td>296</td>\n",
              "      <td>5</td>\n",
              "      <td>65</td>\n",
              "      <td>17</td>\n",
              "      <td>Male</td>\n",
              "      <td>No</td>\n",
              "      <td>No</td>\n",
              "      <td>480</td>\n",
              "    </tr>\n",
              "    <tr>\n",
              "      <th>397</th>\n",
              "      <td>57.872</td>\n",
              "      <td>4171</td>\n",
              "      <td>321</td>\n",
              "      <td>5</td>\n",
              "      <td>67</td>\n",
              "      <td>12</td>\n",
              "      <td>Female</td>\n",
              "      <td>No</td>\n",
              "      <td>Yes</td>\n",
              "      <td>138</td>\n",
              "    </tr>\n",
              "    <tr>\n",
              "      <th>398</th>\n",
              "      <td>37.728</td>\n",
              "      <td>2525</td>\n",
              "      <td>192</td>\n",
              "      <td>1</td>\n",
              "      <td>44</td>\n",
              "      <td>13</td>\n",
              "      <td>Male</td>\n",
              "      <td>No</td>\n",
              "      <td>Yes</td>\n",
              "      <td>0</td>\n",
              "    </tr>\n",
              "    <tr>\n",
              "      <th>399</th>\n",
              "      <td>18.701</td>\n",
              "      <td>5524</td>\n",
              "      <td>415</td>\n",
              "      <td>5</td>\n",
              "      <td>64</td>\n",
              "      <td>7</td>\n",
              "      <td>Female</td>\n",
              "      <td>No</td>\n",
              "      <td>No</td>\n",
              "      <td>966</td>\n",
              "    </tr>\n",
              "  </tbody>\n",
              "</table>\n",
              "<p>400 rows × 10 columns</p>\n",
              "</div>\n",
              "      <button class=\"colab-df-convert\" onclick=\"convertToInteractive('df-02d64fee-c608-4972-83b2-cb4a924e1211')\"\n",
              "              title=\"Convert this dataframe to an interactive table.\"\n",
              "              style=\"display:none;\">\n",
              "        \n",
              "  <svg xmlns=\"http://www.w3.org/2000/svg\" height=\"24px\"viewBox=\"0 0 24 24\"\n",
              "       width=\"24px\">\n",
              "    <path d=\"M0 0h24v24H0V0z\" fill=\"none\"/>\n",
              "    <path d=\"M18.56 5.44l.94 2.06.94-2.06 2.06-.94-2.06-.94-.94-2.06-.94 2.06-2.06.94zm-11 1L8.5 8.5l.94-2.06 2.06-.94-2.06-.94L8.5 2.5l-.94 2.06-2.06.94zm10 10l.94 2.06.94-2.06 2.06-.94-2.06-.94-.94-2.06-.94 2.06-2.06.94z\"/><path d=\"M17.41 7.96l-1.37-1.37c-.4-.4-.92-.59-1.43-.59-.52 0-1.04.2-1.43.59L10.3 9.45l-7.72 7.72c-.78.78-.78 2.05 0 2.83L4 21.41c.39.39.9.59 1.41.59.51 0 1.02-.2 1.41-.59l7.78-7.78 2.81-2.81c.8-.78.8-2.07 0-2.86zM5.41 20L4 18.59l7.72-7.72 1.47 1.35L5.41 20z\"/>\n",
              "  </svg>\n",
              "      </button>\n",
              "      \n",
              "  <style>\n",
              "    .colab-df-container {\n",
              "      display:flex;\n",
              "      flex-wrap:wrap;\n",
              "      gap: 12px;\n",
              "    }\n",
              "\n",
              "    .colab-df-convert {\n",
              "      background-color: #E8F0FE;\n",
              "      border: none;\n",
              "      border-radius: 50%;\n",
              "      cursor: pointer;\n",
              "      display: none;\n",
              "      fill: #1967D2;\n",
              "      height: 32px;\n",
              "      padding: 0 0 0 0;\n",
              "      width: 32px;\n",
              "    }\n",
              "\n",
              "    .colab-df-convert:hover {\n",
              "      background-color: #E2EBFA;\n",
              "      box-shadow: 0px 1px 2px rgba(60, 64, 67, 0.3), 0px 1px 3px 1px rgba(60, 64, 67, 0.15);\n",
              "      fill: #174EA6;\n",
              "    }\n",
              "\n",
              "    [theme=dark] .colab-df-convert {\n",
              "      background-color: #3B4455;\n",
              "      fill: #D2E3FC;\n",
              "    }\n",
              "\n",
              "    [theme=dark] .colab-df-convert:hover {\n",
              "      background-color: #434B5C;\n",
              "      box-shadow: 0px 1px 3px 1px rgba(0, 0, 0, 0.15);\n",
              "      filter: drop-shadow(0px 1px 2px rgba(0, 0, 0, 0.3));\n",
              "      fill: #FFFFFF;\n",
              "    }\n",
              "  </style>\n",
              "\n",
              "      <script>\n",
              "        const buttonEl =\n",
              "          document.querySelector('#df-02d64fee-c608-4972-83b2-cb4a924e1211 button.colab-df-convert');\n",
              "        buttonEl.style.display =\n",
              "          google.colab.kernel.accessAllowed ? 'block' : 'none';\n",
              "\n",
              "        async function convertToInteractive(key) {\n",
              "          const element = document.querySelector('#df-02d64fee-c608-4972-83b2-cb4a924e1211');\n",
              "          const dataTable =\n",
              "            await google.colab.kernel.invokeFunction('convertToInteractive',\n",
              "                                                     [key], {});\n",
              "          if (!dataTable) return;\n",
              "\n",
              "          const docLinkHtml = 'Like what you see? Visit the ' +\n",
              "            '<a target=\"_blank\" href=https://colab.research.google.com/notebooks/data_table.ipynb>data table notebook</a>'\n",
              "            + ' to learn more about interactive tables.';\n",
              "          element.innerHTML = '';\n",
              "          dataTable['output_type'] = 'display_data';\n",
              "          await google.colab.output.renderOutput(dataTable, element);\n",
              "          const docLink = document.createElement('div');\n",
              "          docLink.innerHTML = docLinkHtml;\n",
              "          element.appendChild(docLink);\n",
              "        }\n",
              "      </script>\n",
              "    </div>\n",
              "  </div>\n",
              "  "
            ]
          },
          "metadata": {},
          "execution_count": 1
        }
      ],
      "source": [
        "import matplotlib.pyplot as plt\n",
        "import pandas as pd\n",
        "import numpy as np\n",
        "import math\n",
        "\n",
        "data_import = pd.read_csv(\"Credit_N400_p9.csv\")\n",
        "data_import"
      ]
    },
    {
      "cell_type": "markdown",
      "source": [
        "***Changing the qualitative features into quantitative by replacing them with “0s” and “1s” in the data frame. Then, printing the results to confirm the changes.***"
      ],
      "metadata": {
        "id": "5EZG9RX7jO6Q"
      }
    },
    {
      "cell_type": "code",
      "source": [
        "updated_data_import = data_import.replace({'Gender':{'Male': 1, 'Female': 0}, 'Student':{'Yes': 1, 'No': 0}, 'Married':{'Yes': 1, 'No': 0}}) \n",
        "updated_data_import"
      ],
      "metadata": {
        "colab": {
          "base_uri": "https://localhost:8080/",
          "height": 424
        },
        "id": "ut7pbheMN5n-",
        "outputId": "459d05ca-e7ba-4359-80b9-7890947ab898"
      },
      "execution_count": 2,
      "outputs": [
        {
          "output_type": "execute_result",
          "data": {
            "text/plain": [
              "      Income  Limit  Rating  Cards  Age  Education  Gender  Student  Married  \\\n",
              "0     14.891   3606     283      2   34         11       1        0        1   \n",
              "1    106.025   6645     483      3   82         15       0        1        1   \n",
              "2    104.593   7075     514      4   71         11       1        0        0   \n",
              "3    148.924   9504     681      3   36         11       0        0        0   \n",
              "4     55.882   4897     357      2   68         16       1        0        1   \n",
              "..       ...    ...     ...    ...  ...        ...     ...      ...      ...   \n",
              "395   12.096   4100     307      3   32         13       1        0        1   \n",
              "396   13.364   3838     296      5   65         17       1        0        0   \n",
              "397   57.872   4171     321      5   67         12       0        0        1   \n",
              "398   37.728   2525     192      1   44         13       1        0        1   \n",
              "399   18.701   5524     415      5   64          7       0        0        0   \n",
              "\n",
              "     Balance  \n",
              "0        333  \n",
              "1        903  \n",
              "2        580  \n",
              "3        964  \n",
              "4        331  \n",
              "..       ...  \n",
              "395      560  \n",
              "396      480  \n",
              "397      138  \n",
              "398        0  \n",
              "399      966  \n",
              "\n",
              "[400 rows x 10 columns]"
            ],
            "text/html": [
              "\n",
              "  <div id=\"df-33bb19a5-3d34-480b-98c9-8611fa6f94ce\">\n",
              "    <div class=\"colab-df-container\">\n",
              "      <div>\n",
              "<style scoped>\n",
              "    .dataframe tbody tr th:only-of-type {\n",
              "        vertical-align: middle;\n",
              "    }\n",
              "\n",
              "    .dataframe tbody tr th {\n",
              "        vertical-align: top;\n",
              "    }\n",
              "\n",
              "    .dataframe thead th {\n",
              "        text-align: right;\n",
              "    }\n",
              "</style>\n",
              "<table border=\"1\" class=\"dataframe\">\n",
              "  <thead>\n",
              "    <tr style=\"text-align: right;\">\n",
              "      <th></th>\n",
              "      <th>Income</th>\n",
              "      <th>Limit</th>\n",
              "      <th>Rating</th>\n",
              "      <th>Cards</th>\n",
              "      <th>Age</th>\n",
              "      <th>Education</th>\n",
              "      <th>Gender</th>\n",
              "      <th>Student</th>\n",
              "      <th>Married</th>\n",
              "      <th>Balance</th>\n",
              "    </tr>\n",
              "  </thead>\n",
              "  <tbody>\n",
              "    <tr>\n",
              "      <th>0</th>\n",
              "      <td>14.891</td>\n",
              "      <td>3606</td>\n",
              "      <td>283</td>\n",
              "      <td>2</td>\n",
              "      <td>34</td>\n",
              "      <td>11</td>\n",
              "      <td>1</td>\n",
              "      <td>0</td>\n",
              "      <td>1</td>\n",
              "      <td>333</td>\n",
              "    </tr>\n",
              "    <tr>\n",
              "      <th>1</th>\n",
              "      <td>106.025</td>\n",
              "      <td>6645</td>\n",
              "      <td>483</td>\n",
              "      <td>3</td>\n",
              "      <td>82</td>\n",
              "      <td>15</td>\n",
              "      <td>0</td>\n",
              "      <td>1</td>\n",
              "      <td>1</td>\n",
              "      <td>903</td>\n",
              "    </tr>\n",
              "    <tr>\n",
              "      <th>2</th>\n",
              "      <td>104.593</td>\n",
              "      <td>7075</td>\n",
              "      <td>514</td>\n",
              "      <td>4</td>\n",
              "      <td>71</td>\n",
              "      <td>11</td>\n",
              "      <td>1</td>\n",
              "      <td>0</td>\n",
              "      <td>0</td>\n",
              "      <td>580</td>\n",
              "    </tr>\n",
              "    <tr>\n",
              "      <th>3</th>\n",
              "      <td>148.924</td>\n",
              "      <td>9504</td>\n",
              "      <td>681</td>\n",
              "      <td>3</td>\n",
              "      <td>36</td>\n",
              "      <td>11</td>\n",
              "      <td>0</td>\n",
              "      <td>0</td>\n",
              "      <td>0</td>\n",
              "      <td>964</td>\n",
              "    </tr>\n",
              "    <tr>\n",
              "      <th>4</th>\n",
              "      <td>55.882</td>\n",
              "      <td>4897</td>\n",
              "      <td>357</td>\n",
              "      <td>2</td>\n",
              "      <td>68</td>\n",
              "      <td>16</td>\n",
              "      <td>1</td>\n",
              "      <td>0</td>\n",
              "      <td>1</td>\n",
              "      <td>331</td>\n",
              "    </tr>\n",
              "    <tr>\n",
              "      <th>...</th>\n",
              "      <td>...</td>\n",
              "      <td>...</td>\n",
              "      <td>...</td>\n",
              "      <td>...</td>\n",
              "      <td>...</td>\n",
              "      <td>...</td>\n",
              "      <td>...</td>\n",
              "      <td>...</td>\n",
              "      <td>...</td>\n",
              "      <td>...</td>\n",
              "    </tr>\n",
              "    <tr>\n",
              "      <th>395</th>\n",
              "      <td>12.096</td>\n",
              "      <td>4100</td>\n",
              "      <td>307</td>\n",
              "      <td>3</td>\n",
              "      <td>32</td>\n",
              "      <td>13</td>\n",
              "      <td>1</td>\n",
              "      <td>0</td>\n",
              "      <td>1</td>\n",
              "      <td>560</td>\n",
              "    </tr>\n",
              "    <tr>\n",
              "      <th>396</th>\n",
              "      <td>13.364</td>\n",
              "      <td>3838</td>\n",
              "      <td>296</td>\n",
              "      <td>5</td>\n",
              "      <td>65</td>\n",
              "      <td>17</td>\n",
              "      <td>1</td>\n",
              "      <td>0</td>\n",
              "      <td>0</td>\n",
              "      <td>480</td>\n",
              "    </tr>\n",
              "    <tr>\n",
              "      <th>397</th>\n",
              "      <td>57.872</td>\n",
              "      <td>4171</td>\n",
              "      <td>321</td>\n",
              "      <td>5</td>\n",
              "      <td>67</td>\n",
              "      <td>12</td>\n",
              "      <td>0</td>\n",
              "      <td>0</td>\n",
              "      <td>1</td>\n",
              "      <td>138</td>\n",
              "    </tr>\n",
              "    <tr>\n",
              "      <th>398</th>\n",
              "      <td>37.728</td>\n",
              "      <td>2525</td>\n",
              "      <td>192</td>\n",
              "      <td>1</td>\n",
              "      <td>44</td>\n",
              "      <td>13</td>\n",
              "      <td>1</td>\n",
              "      <td>0</td>\n",
              "      <td>1</td>\n",
              "      <td>0</td>\n",
              "    </tr>\n",
              "    <tr>\n",
              "      <th>399</th>\n",
              "      <td>18.701</td>\n",
              "      <td>5524</td>\n",
              "      <td>415</td>\n",
              "      <td>5</td>\n",
              "      <td>64</td>\n",
              "      <td>7</td>\n",
              "      <td>0</td>\n",
              "      <td>0</td>\n",
              "      <td>0</td>\n",
              "      <td>966</td>\n",
              "    </tr>\n",
              "  </tbody>\n",
              "</table>\n",
              "<p>400 rows × 10 columns</p>\n",
              "</div>\n",
              "      <button class=\"colab-df-convert\" onclick=\"convertToInteractive('df-33bb19a5-3d34-480b-98c9-8611fa6f94ce')\"\n",
              "              title=\"Convert this dataframe to an interactive table.\"\n",
              "              style=\"display:none;\">\n",
              "        \n",
              "  <svg xmlns=\"http://www.w3.org/2000/svg\" height=\"24px\"viewBox=\"0 0 24 24\"\n",
              "       width=\"24px\">\n",
              "    <path d=\"M0 0h24v24H0V0z\" fill=\"none\"/>\n",
              "    <path d=\"M18.56 5.44l.94 2.06.94-2.06 2.06-.94-2.06-.94-.94-2.06-.94 2.06-2.06.94zm-11 1L8.5 8.5l.94-2.06 2.06-.94-2.06-.94L8.5 2.5l-.94 2.06-2.06.94zm10 10l.94 2.06.94-2.06 2.06-.94-2.06-.94-.94-2.06-.94 2.06-2.06.94z\"/><path d=\"M17.41 7.96l-1.37-1.37c-.4-.4-.92-.59-1.43-.59-.52 0-1.04.2-1.43.59L10.3 9.45l-7.72 7.72c-.78.78-.78 2.05 0 2.83L4 21.41c.39.39.9.59 1.41.59.51 0 1.02-.2 1.41-.59l7.78-7.78 2.81-2.81c.8-.78.8-2.07 0-2.86zM5.41 20L4 18.59l7.72-7.72 1.47 1.35L5.41 20z\"/>\n",
              "  </svg>\n",
              "      </button>\n",
              "      \n",
              "  <style>\n",
              "    .colab-df-container {\n",
              "      display:flex;\n",
              "      flex-wrap:wrap;\n",
              "      gap: 12px;\n",
              "    }\n",
              "\n",
              "    .colab-df-convert {\n",
              "      background-color: #E8F0FE;\n",
              "      border: none;\n",
              "      border-radius: 50%;\n",
              "      cursor: pointer;\n",
              "      display: none;\n",
              "      fill: #1967D2;\n",
              "      height: 32px;\n",
              "      padding: 0 0 0 0;\n",
              "      width: 32px;\n",
              "    }\n",
              "\n",
              "    .colab-df-convert:hover {\n",
              "      background-color: #E2EBFA;\n",
              "      box-shadow: 0px 1px 2px rgba(60, 64, 67, 0.3), 0px 1px 3px 1px rgba(60, 64, 67, 0.15);\n",
              "      fill: #174EA6;\n",
              "    }\n",
              "\n",
              "    [theme=dark] .colab-df-convert {\n",
              "      background-color: #3B4455;\n",
              "      fill: #D2E3FC;\n",
              "    }\n",
              "\n",
              "    [theme=dark] .colab-df-convert:hover {\n",
              "      background-color: #434B5C;\n",
              "      box-shadow: 0px 1px 3px 1px rgba(0, 0, 0, 0.15);\n",
              "      filter: drop-shadow(0px 1px 2px rgba(0, 0, 0, 0.3));\n",
              "      fill: #FFFFFF;\n",
              "    }\n",
              "  </style>\n",
              "\n",
              "      <script>\n",
              "        const buttonEl =\n",
              "          document.querySelector('#df-33bb19a5-3d34-480b-98c9-8611fa6f94ce button.colab-df-convert');\n",
              "        buttonEl.style.display =\n",
              "          google.colab.kernel.accessAllowed ? 'block' : 'none';\n",
              "\n",
              "        async function convertToInteractive(key) {\n",
              "          const element = document.querySelector('#df-33bb19a5-3d34-480b-98c9-8611fa6f94ce');\n",
              "          const dataTable =\n",
              "            await google.colab.kernel.invokeFunction('convertToInteractive',\n",
              "                                                     [key], {});\n",
              "          if (!dataTable) return;\n",
              "\n",
              "          const docLinkHtml = 'Like what you see? Visit the ' +\n",
              "            '<a target=\"_blank\" href=https://colab.research.google.com/notebooks/data_table.ipynb>data table notebook</a>'\n",
              "            + ' to learn more about interactive tables.';\n",
              "          element.innerHTML = '';\n",
              "          dataTable['output_type'] = 'display_data';\n",
              "          await google.colab.output.renderOutput(dataTable, element);\n",
              "          const docLink = document.createElement('div');\n",
              "          docLink.innerHTML = docLinkHtml;\n",
              "          element.appendChild(docLink);\n",
              "        }\n",
              "      </script>\n",
              "    </div>\n",
              "  </div>\n",
              "  "
            ]
          },
          "metadata": {},
          "execution_count": 2
        }
      ]
    },
    {
      "cell_type": "markdown",
      "source": [
        "***Converting data frame into NumPy array. Then printing NumPy array information into screen.***"
      ],
      "metadata": {
        "id": "mzbPOmIkiYoc"
      }
    },
    {
      "cell_type": "code",
      "source": [
        "#convert pandas dataframe into  numpy array\n",
        "data_in_array = updated_data_import.to_numpy()\n",
        "print(data_in_array.shape)\n",
        "data_in_array"
      ],
      "metadata": {
        "colab": {
          "base_uri": "https://localhost:8080/",
          "height": 0
        },
        "id": "RfWeU1ZFaSWv",
        "outputId": "a1834e51-469b-4171-8972-bdefdee0a04f"
      },
      "execution_count": 3,
      "outputs": [
        {
          "output_type": "stream",
          "name": "stdout",
          "text": [
            "(400, 10)\n"
          ]
        },
        {
          "output_type": "execute_result",
          "data": {
            "text/plain": [
              "array([[1.48910e+01, 3.60600e+03, 2.83000e+02, ..., 0.00000e+00,\n",
              "        1.00000e+00, 3.33000e+02],\n",
              "       [1.06025e+02, 6.64500e+03, 4.83000e+02, ..., 1.00000e+00,\n",
              "        1.00000e+00, 9.03000e+02],\n",
              "       [1.04593e+02, 7.07500e+03, 5.14000e+02, ..., 0.00000e+00,\n",
              "        0.00000e+00, 5.80000e+02],\n",
              "       ...,\n",
              "       [5.78720e+01, 4.17100e+03, 3.21000e+02, ..., 0.00000e+00,\n",
              "        1.00000e+00, 1.38000e+02],\n",
              "       [3.77280e+01, 2.52500e+03, 1.92000e+02, ..., 0.00000e+00,\n",
              "        1.00000e+00, 0.00000e+00],\n",
              "       [1.87010e+01, 5.52400e+03, 4.15000e+02, ..., 0.00000e+00,\n",
              "        0.00000e+00, 9.66000e+02]])"
            ]
          },
          "metadata": {},
          "execution_count": 3
        }
      ]
    },
    {
      "cell_type": "markdown",
      "source": [
        "***Splitting the NumPy array into two arrays. One for features and one for the output from the dataset as well as printing the information about new arrays.***"
      ],
      "metadata": {
        "id": "IO6QkmPfkXCy"
      }
    },
    {
      "cell_type": "code",
      "source": [
        "features = data_in_array[:, 0:9]\n",
        "true_output = data_in_array[:, -1]\n",
        "\n",
        "print(features.shape)\n",
        "#print(features)\n",
        "print(true_output.shape)\n",
        "#print(true_output)"
      ],
      "metadata": {
        "colab": {
          "base_uri": "https://localhost:8080/",
          "height": 0
        },
        "id": "kg4bNY4uk8Cv",
        "outputId": "c0568b37-1055-46f0-8c2d-923115fd0330"
      },
      "execution_count": 4,
      "outputs": [
        {
          "output_type": "stream",
          "name": "stdout",
          "text": [
            "(400, 9)\n",
            "(400,)\n"
          ]
        }
      ]
    },
    {
      "cell_type": "markdown",
      "source": [
        "***Calculating the mean for all samples in the features as well as the output and saving them into variables for future reference and calculation. Additionally, calculating the standard deviations for all features and saving the results as well. The results are printed with values saved into variables.***"
      ],
      "metadata": {
        "id": "CCzpjJHtlrdx"
      }
    },
    {
      "cell_type": "code",
      "source": [
        "feature_std = []\n",
        "feature_mean = []\n",
        "true_output_mean = []\n",
        "\n",
        "for feature in range(features.shape[1]):\n",
        "  \n",
        "  feature_mean.append(np.mean(features[:, feature]))\n",
        "  feature_std.append(np.std(features[:, feature]))\n",
        "\n",
        "true_output_mean.append(np.mean(true_output))\n",
        "\n",
        "print(feature_std)\n",
        "print(feature_mean)\n",
        "print(true_output_mean)"
      ],
      "metadata": {
        "colab": {
          "base_uri": "https://localhost:8080/",
          "height": 0
        },
        "id": "6Nh-IKLrYZME",
        "outputId": "ee15eb2b-8da3-4daa-ab52-1ac5c769cc57"
      },
      "execution_count": 5,
      "outputs": [
        {
          "output_type": "stream",
          "name": "stdout",
          "text": [
            "[35.20019025455367, 2305.311793445737, 154.53061638393862, 1.36955969201784, 17.228231010466512, 3.1212978070027217, 0.4996936561534477, 0.3, 0.4871793817476269]\n",
            "[45.218885, 4735.6, 354.94, 2.9575, 55.6675, 13.45, 0.4825, 0.1, 0.6125]\n",
            "[520.015]\n"
          ]
        }
      ]
    },
    {
      "cell_type": "markdown",
      "source": [
        "***Centering the values for all the features in the dataset as well as the output by subtracting the mean for each feature. Afterwards, manipulating the results to maintain the same matrix architecture. Finally, printing results to screen to confirm results.***"
      ],
      "metadata": {
        "id": "IeomInuSmYXu"
      }
    },
    {
      "cell_type": "code",
      "source": [
        "#Centering features and output\n",
        "centered_output = []\n",
        "centered_features = []\n",
        "\n",
        "centered_output = np.subtract(true_output, true_output_mean)\n",
        "\n",
        "for feature in range(features.shape[1]):\n",
        "  centered_features.append(np.subtract(features[:, feature], feature_mean[feature])) \n",
        "\n",
        "centered_features = np.array(centered_features)\n",
        "centered_features = np.transpose(centered_features)\n",
        "centered_output = np.transpose(centered_output)\n",
        "\n",
        "print(type(centered_output))\n",
        "print(centered_output.shape)\n",
        "#print(centered_output)\n",
        "print(type(centered_features))\n",
        "print(centered_features.shape)\n",
        "#print(centered_features)"
      ],
      "metadata": {
        "id": "0RloMHDrukuO",
        "colab": {
          "base_uri": "https://localhost:8080/",
          "height": 0
        },
        "outputId": "04c7a9cd-d140-449f-e399-635968beb323"
      },
      "execution_count": 6,
      "outputs": [
        {
          "output_type": "stream",
          "name": "stdout",
          "text": [
            "<class 'numpy.ndarray'>\n",
            "(400,)\n",
            "<class 'numpy.ndarray'>\n",
            "(400, 9)\n"
          ]
        }
      ]
    },
    {
      "cell_type": "markdown",
      "source": [
        "***Normalizing the features of the dataset by diving by the standard deviation of the features after they have been centered.***"
      ],
      "metadata": {
        "id": "k_Wv0Q-voNo2"
      }
    },
    {
      "cell_type": "code",
      "source": [
        "normalized_features = []\n",
        "\n",
        "for feature in range(features.shape[1]):\n",
        "  normalized_features.append(np.divide(centered_features[:, feature], feature_std[feature]))\n",
        "\n",
        "normalized_features = np.transpose(normalized_features)\n",
        "\n",
        "print(type(normalized_features))\n",
        "print(normalized_features.shape)\n",
        "print(normalized_features)"
      ],
      "metadata": {
        "colab": {
          "base_uri": "https://localhost:8080/",
          "height": 0
        },
        "id": "CjF1v3mCLCtS",
        "outputId": "4f7e32c9-d54b-42c5-d686-edaf46b17d50"
      },
      "execution_count": 7,
      "outputs": [
        {
          "output_type": "stream",
          "name": "stdout",
          "text": [
            "<class 'numpy.ndarray'>\n",
            "(400, 9)\n",
            "[[-0.86158299 -0.48999879 -0.46553881 ...  1.03563452 -0.33333333\n",
            "   0.79539491]\n",
            " [ 1.72743711  0.82826106  0.82870309 ... -0.96559161  3.\n",
            "   0.79539491]\n",
            " [ 1.68675551  1.01478681  1.02931059 ...  1.03563452 -0.33333333\n",
            "  -1.25723711]\n",
            " ...\n",
            " [ 0.35946155 -0.24491264 -0.21963285 ... -0.96559161 -0.33333333\n",
            "   0.79539491]\n",
            " [-0.21280808 -0.95891584 -1.05441888 ...  1.03563452 -0.33333333\n",
            "   0.79539491]\n",
            " [-0.75334493  0.34199278  0.38866085 ... -0.96559161 -0.33333333\n",
            "  -1.25723711]]\n"
          ]
        }
      ]
    },
    {
      "cell_type": "markdown",
      "source": [
        "***Crating X and y matrices for ridge regression training and printing the information to the screen.***"
      ],
      "metadata": {
        "id": "h4d_j83KoyxO"
      }
    },
    {
      "cell_type": "code",
      "source": [
        "X = normalized_features\n",
        "y = centered_output\n",
        "\n",
        "print(type(y))\n",
        "print(y.shape)\n",
        "#print(y)\n",
        "\n",
        "print(type(X))\n",
        "print(X.shape)\n",
        "#print(X)"
      ],
      "metadata": {
        "colab": {
          "base_uri": "https://localhost:8080/",
          "height": 0
        },
        "id": "MalbTJP6MdJz",
        "outputId": "ae3aef48-91b2-4acf-f49d-c6a483ea5fb9"
      },
      "execution_count": 8,
      "outputs": [
        {
          "output_type": "stream",
          "name": "stdout",
          "text": [
            "<class 'numpy.ndarray'>\n",
            "(400,)\n",
            "<class 'numpy.ndarray'>\n",
            "(400, 9)\n"
          ]
        }
      ]
    },
    {
      "cell_type": "markdown",
      "source": [
        "***Conducting ridge regression with gradient descent using different tunning parameters in order to understand how the tunning parameters affect the result of the Beta values that determines the predictability of future samples. Finally, the results are printed for analysis.***"
      ],
      "metadata": {
        "id": "p8SFNvlInC5M"
      }
    },
    {
      "cell_type": "code",
      "source": [
        "p = 9\n",
        "beta = []\n",
        "\n",
        "alpha = 10**-5\n",
        "lambdas = [0.01, 0.1, 1, 10, 100, 1000, 10000]\n",
        "\n",
        "for lamb in lambdas:\n",
        "\n",
        "  beta_temp = np.random.uniform(-1, 1 ,p)\n",
        "\n",
        "  for x in range(0, 10**5):\n",
        "    \n",
        "    beta_temp = beta_temp - 2 * alpha * (lamb * beta_temp - np.matmul(X.T, (y - np.matmul(X, beta_temp))))\n",
        "    #print(beta_temp)\n",
        "\n",
        "  beta.append(beta_temp)\n",
        "  #print(beta_temp)\n",
        "\n",
        "beta = np.array(beta)\n",
        "\n",
        "print(beta.shape)\n",
        "print(beta)"
      ],
      "metadata": {
        "id": "byIdLtc3OKRt",
        "colab": {
          "base_uri": "https://localhost:8080/",
          "height": 0
        },
        "outputId": "29b329e5-ac69-4b09-b6c0-c228682a7573"
      },
      "execution_count": 9,
      "outputs": [
        {
          "output_type": "stream",
          "name": "stdout",
          "text": [
            "(7, 9)\n",
            "[[-2.74653443e+02  4.19624687e+02  1.95868467e+02  2.34473100e+01\n",
            "  -1.09649998e+01 -3.34718800e+00  5.20097361e+00  1.27783438e+02\n",
            "  -3.59522041e+00]\n",
            " [-2.74345388e+02  4.12467918e+02  2.02726492e+02  2.31572503e+01\n",
            "  -1.09959624e+01 -3.30614560e+00  5.19136680e+00  1.27703522e+02\n",
            "  -3.64774851e+00]\n",
            " [-2.71234674e+02  3.67999499e+02  2.44137355e+02  2.14261127e+01\n",
            "  -1.12724304e+01 -3.03731512e+00  5.09421811e+00  1.27069101e+02\n",
            "  -3.98602020e+00]\n",
            " [-2.42108334e+02  3.02250287e+02  2.80525289e+02  2.02747969e+01\n",
            "  -1.33212924e+01 -2.36122776e+00  4.18577233e+00  1.23168277e+02\n",
            "  -4.71110792e+00]\n",
            " [-9.46394267e+01  2.11365448e+02  2.09546148e+02  2.23649618e+01\n",
            "  -1.91756880e+01 -4.61880796e-01 -2.19413575e-01  9.76670287e+01\n",
            "  -5.73202868e+00]\n",
            " [ 2.29331014e+01  8.40777050e+01  8.42170361e+01  1.02656498e+01\n",
            "  -5.69317240e+00 -9.97187472e-02 -1.99329983e+00  3.40023752e+01\n",
            "  -1.95907508e+00]\n",
            " [ 7.30675542e+00  1.44416972e+01  1.44740176e+01  1.50156964e+00\n",
            "  -1.27982621e-01 -1.14126439e-01 -3.63791645e-01  4.57395306e+00\n",
            "  -1.34200536e-01]]\n"
          ]
        }
      ]
    },
    {
      "cell_type": "markdown",
      "source": [
        "# ***Deliverable 1***"
      ],
      "metadata": {
        "id": "NsCkWj8qU62R"
      }
    },
    {
      "cell_type": "markdown",
      "source": [
        "***Plotting the results of the different beta values for each feature in the dataset against the tunning parameters. From the graph it can be observed that as the tuning parameters increase in value, the Beta values of the model approach “0”. Hence, the smaller the value of the tunning parameter, the less restricted the values of the Betas and the higher the value of the tunning parameter, the more restricted the values of the Betas.***"
      ],
      "metadata": {
        "id": "BuROKzvspHUR"
      }
    },
    {
      "cell_type": "code",
      "source": [
        "x = np.array(lambdas)\n",
        "\n",
        "fig, ax = plt.subplots()\n",
        "plt.xscale('log')\n",
        "ax.plot(x, beta[:, 0], label=\"Income\")\n",
        "ax.plot(x, beta[:, 1], label=\"Limit\")\n",
        "ax.plot(x, beta[:, 2], label=\"Rating\")\n",
        "ax.plot(x, beta[:, 3], label=\"Cards\")\n",
        "ax.plot(x, beta[:, 4], label=\"Age\")\n",
        "ax.plot(x, beta[:, 5], label=\"Education\")\n",
        "ax.plot(x, beta[:, 6], label=\"Gender\")\n",
        "ax.plot(x, beta[:, 7], label=\"Student\")\n",
        "ax.plot(x, beta[:, 8], label=\"Married\")\n",
        "ax.legend(loc = 'upper left')\n",
        "plt.ylim(-300, 500)\n",
        "plt.title(\"Regression Coefficients for Features when Predicting Credit Balance\") \n",
        "plt.xlabel(\"Lambda\") \n",
        "plt.ylabel(\"Standarized Coefficients\") \n",
        "plt.show()"
      ],
      "metadata": {
        "colab": {
          "base_uri": "https://localhost:8080/",
          "height": 299
        },
        "id": "olttwKb1drlR",
        "outputId": "eed7b398-f094-4972-b6d1-2a74209390e4"
      },
      "execution_count": 10,
      "outputs": [
        {
          "output_type": "display_data",
          "data": {
            "text/plain": [
              "<Figure size 432x288 with 1 Axes>"
            ],
            "image/png": "[encoded data removed]"
          },
          "metadata": {
            "needs_background": "light"
          }
        }
      ]
    },
    {
      "cell_type": "markdown",
      "source": [
        "***Defining a function that will split a dataset into 5 folds. The fold split will depend in the variable “fold_number” which will decide which rows are used for the training and test set. The function takes the dataset as well as a fold number which will split the data set and return a training set and a test set.***"
      ],
      "metadata": {
        "id": "SzcbmA26qmVR"
      }
    },
    {
      "cell_type": "code",
      "source": [
        "#function that separates dataset into folds\n",
        "def fold_data_set(dataset, fold_number):\n",
        " \n",
        "  partition = len(dataset) / 5\n",
        "\n",
        "  if fold_number == 1:\n",
        "\n",
        "    begin_index = int(partition * 0)\n",
        "    end_index = int((partition * 1) - 1)\n",
        "    \n",
        "    test_set = dataset[begin_index:end_index]\n",
        "    training_set = np.delete(dataset, slice(begin_index, end_index), axis=0)\n",
        "\n",
        "    return test_set, training_set\n",
        "  \n",
        "  if fold_number == 2:\n",
        "\n",
        "    begin_index = int(partition * 1)\n",
        "    end_index = int((partition * 2) - 1)\n",
        "\n",
        "    test_set = dataset[begin_index:end_index]\n",
        "    training_set = np.delete(dataset, slice(begin_index, end_index), axis=0)\n",
        "\n",
        "    return test_set, training_set\n",
        "\n",
        "  if fold_number == 3:\n",
        "\n",
        "    begin_index = int(partition * 2)\n",
        "    end_index = int((partition * 3) - 1)\n",
        "\n",
        "    test_set = dataset[begin_index:end_index]\n",
        "    training_set = np.delete(dataset, slice(begin_index, end_index), axis=0)\n",
        "\n",
        "    return test_set, training_set\n",
        "\n",
        "  if fold_number == 4:\n",
        "\n",
        "    begin_index = int(partition * 3)\n",
        "    end_index = int((partition * 4) - 1)\n",
        "\n",
        "    test_set = dataset[begin_index:end_index]\n",
        "    training_set = np.delete(dataset, slice(begin_index, end_index), axis=0)\n",
        "\n",
        "    return test_set, training_set\n",
        "\n",
        "  if fold_number == 5:\n",
        "\n",
        "    begin_index = int(partition * 4)\n",
        "    end_index = int((partition * 5) - 1)\n",
        "\n",
        "    test_set = dataset[begin_index:end_index]\n",
        "    training_set = np.delete(dataset, slice(begin_index,end_index), axis=0)\n",
        "\n",
        "    return test_set, training_set"
      ],
      "metadata": {
        "id": "fcqypCW8h5VT"
      },
      "execution_count": null,
      "outputs": []
    },
    {
      "cell_type": "markdown",
      "source": [
        "***Defining a function that will take the test set and dataset and split it into a training and test feature dataset and a training and test output dataset. The it will conduct data preprocessing such as mean calculation, standard deviation calculations, centering of features and outputs, and normalization of features. The function will return 4 matrices. A training matrix with features and the output, and a test matrix with features and the output for validation.***"
      ],
      "metadata": {
        "id": "JprsG7zrs4Aw"
      }
    },
    {
      "cell_type": "code",
      "source": [
        "def fold_cent_norm(test_set, training_set):\n",
        "\n",
        "  test_std_temp = []\n",
        "  test_mean_temp = []\n",
        "  training_std_temp = []\n",
        "  training_mean_temp = []\n",
        "  test_centered_features = []\n",
        "  test_normalized_features = []\n",
        "  training_centered_features = []\n",
        "  training_normalized_features = []\n",
        "  \n",
        "  test_set_features = test_set[:, 0:9]\n",
        "  test_set_output = test_set[:, -1]\n",
        "\n",
        "  training_set_features = training_set[:, 0:9]\n",
        "  training_set_output = training_set[:, -1]\n",
        "\n",
        "  test_set_output -= np.mean(test_set_output)\n",
        "  training_set_output -= np.mean(training_set_output)\n",
        "\n",
        "  for feature in range(training_set_features.shape[1]):\n",
        "\n",
        "    training_mean_temp.append(np.mean(training_set_features[:, feature]))\n",
        "    training_std_temp.append(np.std(training_set_features[:, feature]))\n",
        "\n",
        "  for feature in range(training_set_features.shape[1]):\n",
        "    \n",
        "    training_centered_features.append(np.subtract(training_set_features[:, feature], training_mean_temp[feature]))\n",
        "\n",
        "  training_centered_features = np.array(training_centered_features)\n",
        "  training_centered_features = np.transpose(training_centered_features)\n",
        "\n",
        "  for feature in range(training_set_features.shape[1]):\n",
        "    \n",
        "    training_normalized_features.append(np.divide(training_centered_features[:, feature], training_std_temp[feature]))\n",
        "\n",
        "  training_normalized_features = np.array(training_normalized_features)\n",
        "  training_normalized_features = np.transpose(training_normalized_features)\n",
        "\n",
        "  for feature in range(test_set_features.shape[1]):\n",
        "\n",
        "    test_mean_temp.append(np.mean(test_set_features[:, feature]))\n",
        "    test_std_temp.append(np.std(test_set_features[:, feature]))\n",
        "\n",
        "  for feature in range(test_set_features.shape[1]):\n",
        "    \n",
        "    test_centered_features.append(np.subtract(test_set_features[:, feature], test_mean_temp[feature]))\n",
        "\n",
        "  test_centered_features = np.array(test_centered_features)\n",
        "  test_centered_features = np.transpose(test_centered_features)\n",
        "\n",
        "  for feature in range(test_set_features.shape[1]):\n",
        "    \n",
        "    test_normalized_features.append(np.divide(test_centered_features[:, feature], test_std_temp[feature]))\n",
        "\n",
        "  test_normalized_features = np.array(test_normalized_features)\n",
        "  test_normalized_features = np.transpose(test_normalized_features)\n",
        "  \n",
        "  return test_normalized_features, test_set_output, training_normalized_features, training_set_output"
      ],
      "metadata": {
        "id": "UXXuI457qdeu"
      },
      "execution_count": 12,
      "outputs": []
    },
    {
      "cell_type": "markdown",
      "source": [
        "***Defining a function that will conduct ridge regression using gradient descent in the training dataset. It will loop through different tunning parameters and return the beta values for all tunning parameters in an array.***"
      ],
      "metadata": {
        "id": "aaOmvE_Pro3c"
      }
    },
    {
      "cell_type": "code",
      "source": [
        "def rid_reg_fit(X_train, y_train):\n",
        "\n",
        "  beta = []\n",
        "  alpha = 10**-5\n",
        "  p = X_train.shape[1]\n",
        "  lambdas = [0.01, 0.1, 1, 10, 100, 1000, 10000]\n",
        "\n",
        "  for lamb in lambdas:\n",
        "\n",
        "    beta_temp = np.random.uniform(-1, 1, p)\n",
        "\n",
        "    for x in range(0, 10**5):\n",
        "\n",
        "      beta_temp = beta_temp - 2 * alpha * (lamb * beta_temp - np.matmul(X_train.T, (y_train - np.matmul(X_train, beta_temp))))\n",
        "      #print(beta_temp)\n",
        "\n",
        "    beta.append(beta_temp)\n",
        "    #print(beta_temp)\n",
        "\n",
        "  beta = np.array(beta)\n",
        "\n",
        "  return beta"
      ],
      "metadata": {
        "id": "y12T6Yg2rmmX"
      },
      "execution_count": 13,
      "outputs": []
    },
    {
      "cell_type": "markdown",
      "source": [
        "***Defining a function that will calculate the Mean Square Error for each fold in the data set per tunning parameter and return and array with all the MSE calculations. The MSE calculations conducted with the validation dataset of the current fold.***"
      ],
      "metadata": {
        "id": "bsLaZMcMru3B"
      }
    },
    {
      "cell_type": "code",
      "source": [
        "def rid_reg_MSE(betas, X_val, y_val):\n",
        "\n",
        "  MSE = []  \n",
        "\n",
        "  for x in range(betas.shape[0]):\n",
        "\n",
        "    y_predicted = np.matmul(X_val, betas[x])\n",
        "\n",
        "    temp_mse = (np.subtract(y_val, y_predicted))**2\n",
        "\n",
        "    test_mse = temp_mse.sum() / len(temp_mse)\n",
        "\n",
        "    MSE.append(test_mse)\n",
        "\n",
        "  return MSE"
      ],
      "metadata": {
        "id": "jMc5z-i4rtnN"
      },
      "execution_count": 14,
      "outputs": []
    },
    {
      "cell_type": "markdown",
      "source": [
        "***Code that runs through all 5 folds in the dataset. It will call all functions to split the dataset by fold, further split the folded dataset into training and test matrices with features normalized and output centered. It calls for the ridge regression function to calculate all Betas based on all tunning parameters, and it calculates the MSE for each of the folds. Then it saves all the information into an array. Finally, it prints the information to the screen for analysis.***"
      ],
      "metadata": {
        "id": "krS2WMJGr0eR"
      }
    },
    {
      "cell_type": "code",
      "source": [
        "folds = 5\n",
        "model_MSE = []\n",
        "\n",
        "#loop that traverses through all folds\n",
        "for x in range(0, folds):\n",
        "\n",
        "  #splitting dataset into test and training\n",
        "  test_set, training_set = fold_data_set(data_in_array, x + 1)\n",
        "\n",
        "  #splitting features from output in dataset conducting centering and normalization of datasets\n",
        "  X_val, y_val, X_train, y_train = fold_cent_norm(test_set, training_set)\n",
        "\n",
        "  #fitting the model with ridge regresion to obtain beta values per tunning parameter\n",
        "  beta_for_each_lamda = rid_reg_fit(X_train, y_train)\n",
        "\n",
        "  #calculating MSE based on test set after model has been trainined \n",
        "  model_MSE.append(rid_reg_MSE(beta_for_each_lamda, X_val, y_val))\n",
        "\n",
        "model_MSE = np.array(model_MSE)\n",
        "\n",
        "print(type(model_MSE))\n",
        "print(model_MSE.shape)\n",
        "print(model_MSE)"
      ],
      "metadata": {
        "colab": {
          "base_uri": "https://localhost:8080/",
          "height": 0
        },
        "id": "qxe5KEinrznL",
        "outputId": "d73f6ea9-84a9-460d-f420-ecbb6657de4f"
      },
      "execution_count": 15,
      "outputs": [
        {
          "output_type": "stream",
          "name": "stdout",
          "text": [
            "<class 'numpy.ndarray'>\n",
            "(5, 7)\n",
            "[[  8697.29286881   8691.68839451   8662.64923399   9048.50464955\n",
            "   25725.70198663  92482.64505506 170329.55526599]\n",
            " [ 16059.941508    16091.21001103  16336.46472892  18344.60373258\n",
            "   44688.59710868 134916.45856777 226160.58161324]\n",
            " [  8393.55351902   8377.44021804   8365.34573662   9621.63125536\n",
            "   30618.09547409 111601.60725962 198632.21321452]\n",
            " [ 16455.07861456  16424.92051922  16224.41947145  16069.73277237\n",
            "   32619.40074328  92513.71167661 163511.60681628]\n",
            " [ 12173.13096196  12173.36427365  12213.49785218  13176.48826562\n",
            "   27700.88638506  93349.49573311 173218.33968484]]\n"
          ]
        }
      ]
    },
    {
      "cell_type": "markdown",
      "source": [
        "***Code that calculates the cross-validation error of all folds by computing the mean of the MSE for all folds. The results are printed and saved into an array.***"
      ],
      "metadata": {
        "id": "ilfR59OXvQ6K"
      }
    },
    {
      "cell_type": "code",
      "source": [
        "CV = []\n",
        "\n",
        "for x in range(model_MSE.shape[1]):\n",
        "\n",
        "  CV.append((model_MSE[:, x].sum()) / 5)\n",
        "\n",
        "CV = np.array(CV)\n",
        "\n",
        "print(type(CV))\n",
        "print(CV.shape)\n",
        "print(CV)"
      ],
      "metadata": {
        "colab": {
          "base_uri": "https://localhost:8080/",
          "height": 0
        },
        "id": "cMSoVUvoPtI5",
        "outputId": "4d5c7cbb-da31-4f78-b244-c6ea51b2eecf"
      },
      "execution_count": 16,
      "outputs": [
        {
          "output_type": "stream",
          "name": "stdout",
          "text": [
            "<class 'numpy.ndarray'>\n",
            "(7,)\n",
            "[ 12355.79949447  12351.72468329  12360.47540463  13252.1921351\n",
            "  32270.53633955 104972.78365843 186370.45931897]\n"
          ]
        }
      ]
    },
    {
      "cell_type": "markdown",
      "source": [
        "# ***Deliverable 2***"
      ],
      "metadata": {
        "id": "vG5s1OCoVKwS"
      }
    },
    {
      "cell_type": "markdown",
      "source": [
        "***Plotting the CV error of for the model based on the tunning parameter value. From the graph it can be observer, that as the tunning parameter grows larger, so does the CV error of the ridge regression model.***"
      ],
      "metadata": {
        "id": "0sRDHGDiwS71"
      }
    },
    {
      "cell_type": "code",
      "source": [
        "lambdas = [0.01, 0.1, 1, 10, 100, 1000, 10000]\n",
        "\n",
        "x = np.array(lambdas)\n",
        "\n",
        "fig, ax = plt.subplots()\n",
        "plt.xscale('log')\n",
        "ax.plot(x, CV, label=\"MSE\")\n",
        "\n",
        "ax.legend(loc = 'upper left')\n",
        "plt.title(\"CV Error Plot\") \n",
        "plt.xlabel(\"Lambda\") \n",
        "plt.ylabel(\"CV Error\") \n",
        "plt.show()"
      ],
      "metadata": {
        "colab": {
          "base_uri": "https://localhost:8080/",
          "height": 299
        },
        "id": "KqVT-_fKMVBF",
        "outputId": "fa5ca004-b1c4-4299-8269-a102eed75417"
      },
      "execution_count": 17,
      "outputs": [
        {
          "output_type": "display_data",
          "data": {
            "text/plain": [
              "<Figure size 432x288 with 1 Axes>"
            ],
            "image/png": "[encoded data removed]"
          },
          "metadata": {
            "needs_background": "light"
          }
        }
      ]
    },
    {
      "cell_type": "markdown",
      "source": [
        "# ***Deliverable 3***\n",
        "Based on the plot above, it can be dertermine that lambda = 0.1 provides the smallest error from all of the test lambdas"
      ],
      "metadata": {
        "id": "EshBr0ykVQbv"
      }
    },
    {
      "cell_type": "markdown",
      "source": [
        "# ***Deliverable 4***"
      ],
      "metadata": {
        "id": "w7ZAV1qoVplc"
      }
    },
    {
      "cell_type": "markdown",
      "source": [
        "***Integrating all steps aforementioned above to retrain the ridge regression model with the full dataset and printing the beta results of the trained model.***"
      ],
      "metadata": {
        "id": "08DU4tNZwwuY"
      }
    },
    {
      "cell_type": "code",
      "source": [
        "#retraining ridge regresion model with optimal lambda(tuning parameter)\n",
        "X_train = data_in_array[:, 0:9]\n",
        "y_train = data_in_array[:, -1]\n",
        "\n",
        "X_train_std = []\n",
        "X_train_mean = []\n",
        "y_train_mean = []\n",
        "\n",
        "for feature in range(X_train.shape[1]):\n",
        "  \n",
        "  X_train_mean.append(np.mean(X_train[:, feature]))\n",
        "  X_train_std.append(np.std(X_train[:, feature]))\n",
        "\n",
        "y_train_mean.append(np.mean(y_train))\n",
        "\n",
        "y_train_centered = []\n",
        "X_train_centered = []\n",
        "\n",
        "y_train_centered = np.subtract(y_train, y_train_mean)\n",
        "\n",
        "for feature in range(X_train.shape[1]):\n",
        "  X_train_centered.append(np.subtract(X_train[:, feature], X_train_mean[feature])) \n",
        "\n",
        "X_train_centered = np.array(X_train_centered)\n",
        "X_train_centered = np.transpose(X_train_centered)\n",
        "\n",
        "X_train_normalized = []\n",
        "\n",
        "for feature in range(X_train_centered.shape[1]):\n",
        "  X_train_normalized.append(np.divide(X_train_centered[:, feature], X_train_std[feature]))\n",
        "\n",
        "X_train_normalized = np.array(X_train_normalized)\n",
        "X_train_normalized = np.transpose(X_train_normalized)\n",
        "\n",
        "p = 9\n",
        "beta = []\n",
        "alpha = 10**-5\n",
        "lambdas =  0.1\n",
        "\n",
        "beta_temp = np.random.uniform(-1, 1 ,p)\n",
        "\n",
        "for x in range(0, 10**5):\n",
        "    \n",
        "  beta_temp = beta_temp - 2 * alpha * (lamb * beta_temp - np.matmul(X.T, (y - np.matmul(X, beta_temp))))\n",
        "\n",
        "beta = np.array(beta_temp)\n",
        "\n",
        "print(beta.shape)\n",
        "print(beta)"
      ],
      "metadata": {
        "colab": {
          "base_uri": "https://localhost:8080/",
          "height": 0
        },
        "id": "vpouezpPU2xM",
        "outputId": "a594eecd-481c-4bab-f09c-af37eb105992"
      },
      "execution_count": 18,
      "outputs": [
        {
          "output_type": "stream",
          "name": "stdout",
          "text": [
            "(9,)\n",
            "[ 7.30675542 14.44169723 14.4740176   1.50156964 -0.12798262 -0.11412644\n",
            " -0.36379165  4.57395306 -0.13420054]\n"
          ]
        }
      ]
    }
  ]
}